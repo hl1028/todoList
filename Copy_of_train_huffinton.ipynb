{
  "nbformat": 4,
  "nbformat_minor": 0,
  "metadata": {
    "colab": {
      "name": "Copy of train_huffinton.ipynb",
      "version": "0.3.2",
      "provenance": [],
      "collapsed_sections": [],
      "include_colab_link": true
    },
    "kernelspec": {
      "display_name": "Python 3",
      "language": "python",
      "name": "python3"
    }
  },
  "cells": [
    {
      "cell_type": "markdown",
      "metadata": {
        "id": "view-in-github",
        "colab_type": "text"
      },
      "source": [
        "<a href=\"https://colab.research.google.com/github/hl1028/todoList/blob/master/Copy_of_train_huffinton.ipynb\" target=\"_parent\"><img src=\"https://colab.research.google.com/assets/colab-badge.svg\" alt=\"Open In Colab\"/></a>"
      ]
    },
    {
      "metadata": {
        "id": "UJgNVUjBgXtN",
        "colab_type": "code",
        "colab": {}
      },
      "cell_type": "code",
      "source": [
        "import json\n",
        "import pandas as pd\n",
        "import numpy as np\n",
        "from io import StringIO\n",
        "from sklearn.feature_selection import chi2\n",
        "from pprint import pprint\n",
        "from sklearn.feature_extraction.text import CountVectorizer\n",
        "from sklearn.feature_extraction.text import TfidfVectorizer\n",
        "import matplotlib.pyplot as plt"
      ],
      "execution_count": 0,
      "outputs": []
    },
    {
      "metadata": {
        "id": "Dl2St5YWjUMq",
        "colab_type": "code",
        "outputId": "3319cfd5-1e59-4b89-8af3-762948870632",
        "colab": {
          "base_uri": "https://localhost:8080/",
          "height": 126
        }
      },
      "cell_type": "code",
      "source": [
        "from google.colab import drive\n",
        "drive.mount('/content/gdrive')"
      ],
      "execution_count": 2,
      "outputs": [
        {
          "output_type": "stream",
          "text": [
            "Go to this URL in a browser: https://accounts.google.com/o/oauth2/auth?client_id=947318989803-6bn6qk8qdgf4n4g3pfee6491hc0brc4i.apps.googleusercontent.com&redirect_uri=urn%3Aietf%3Awg%3Aoauth%3A2.0%3Aoob&scope=email%20https%3A%2F%2Fwww.googleapis.com%2Fauth%2Fdocs.test%20https%3A%2F%2Fwww.googleapis.com%2Fauth%2Fdrive%20https%3A%2F%2Fwww.googleapis.com%2Fauth%2Fdrive.photos.readonly%20https%3A%2F%2Fwww.googleapis.com%2Fauth%2Fpeopleapi.readonly&response_type=code\n",
            "\n",
            "Enter your authorization code:\n",
            "··········\n",
            "Mounted at /content/gdrive\n"
          ],
          "name": "stdout"
        }
      ]
    },
    {
      "metadata": {
        "id": "uBxCzUgTgXtR",
        "colab_type": "code",
        "colab": {}
      },
      "cell_type": "code",
      "source": [
        "# files = []\n",
        "# for i in range(7):\n",
        "#     files.append(open('gdrive/My Drive/test' + str(i) + '.json', 'a'))\n",
        "    \n",
        "# index = 0\n",
        "# count = 0\n",
        "# with open('gdrive/My Drive/category_set.json') as f:\n",
        "#     for line in f:\n",
        "#         files[index].write(line)\n",
        "#         count += 1\n",
        "#         if count >= 30000:\n",
        "#             files[index].close()\n",
        "#             count = 0\n",
        "#             index += 1\n",
        "\n"
      ],
      "execution_count": 0,
      "outputs": []
    },
    {
      "metadata": {
        "id": "TrcPj-fXgXtU",
        "colab_type": "code",
        "colab": {}
      },
      "cell_type": "code",
      "source": [
        "#filenames = ['gdrive/My Drive/test0.json', 'gdrive/My Drive/test1.json', 'gdrive/My Drive/test2.json']\n",
        "filenames = ['gdrive/My Drive/category_set.json']\n",
        "row_list = []\n",
        "df = pd.DataFrame(columns=['category', 'authors', 'date', 'headline', 'link', 'short_description'])\n",
        "count = 0\n",
        "for filename in filenames:\n",
        "    with open(filename, 'r') as file:\n",
        "        lines = file.readlines()\n",
        "        for line in lines:\n",
        "            j = json.loads(line)\n",
        "            row_list.append(j)\n",
        "        \n",
        "df = pd.DataFrame(row_list)"
      ],
      "execution_count": 0,
      "outputs": []
    },
    {
      "metadata": {
        "id": "1zlhhwKkgXtX",
        "colab_type": "code",
        "outputId": "e4108202-2b22-4318-b450-23fb1014b5e7",
        "colab": {
          "base_uri": "https://localhost:8080/",
          "height": 212
        }
      },
      "cell_type": "code",
      "source": [
        "df.info()"
      ],
      "execution_count": 4,
      "outputs": [
        {
          "output_type": "stream",
          "text": [
            "<class 'pandas.core.frame.DataFrame'>\n",
            "RangeIndex: 200853 entries, 0 to 200852\n",
            "Data columns (total 6 columns):\n",
            "authors              200853 non-null object\n",
            "category             200853 non-null object\n",
            "date                 200853 non-null object\n",
            "headline             200853 non-null object\n",
            "link                 200853 non-null object\n",
            "short_description    200853 non-null object\n",
            "dtypes: object(6)\n",
            "memory usage: 9.2+ MB\n"
          ],
          "name": "stdout"
        }
      ]
    },
    {
      "metadata": {
        "id": "jSMgv-5pgXtc",
        "colab_type": "code",
        "colab": {}
      },
      "cell_type": "code",
      "source": [
        "columns = ['headline', 'category', 'short_description']\n",
        "df = df[columns]\n",
        "df = df[pd.notnull(df['short_description'])]\n",
        "# df['short_description'] = df['headline'] + \" \" + df['short_description']"
      ],
      "execution_count": 0,
      "outputs": []
    },
    {
      "metadata": {
        "id": "HhF7bjmIgXte",
        "colab_type": "code",
        "outputId": "d27e6146-2eb8-416f-a65b-6ee19ff2d18d",
        "colab": {
          "base_uri": "https://localhost:8080/",
          "height": 194
        }
      },
      "cell_type": "code",
      "source": [
        "df.head()"
      ],
      "execution_count": 6,
      "outputs": [
        {
          "output_type": "execute_result",
          "data": {
            "text/html": [
              "<div>\n",
              "<style scoped>\n",
              "    .dataframe tbody tr th:only-of-type {\n",
              "        vertical-align: middle;\n",
              "    }\n",
              "\n",
              "    .dataframe tbody tr th {\n",
              "        vertical-align: top;\n",
              "    }\n",
              "\n",
              "    .dataframe thead th {\n",
              "        text-align: right;\n",
              "    }\n",
              "</style>\n",
              "<table border=\"1\" class=\"dataframe\">\n",
              "  <thead>\n",
              "    <tr style=\"text-align: right;\">\n",
              "      <th></th>\n",
              "      <th>headline</th>\n",
              "      <th>category</th>\n",
              "      <th>short_description</th>\n",
              "    </tr>\n",
              "  </thead>\n",
              "  <tbody>\n",
              "    <tr>\n",
              "      <th>0</th>\n",
              "      <td>There Were 2 Mass Shootings In Texas Last Week...</td>\n",
              "      <td>CRIME</td>\n",
              "      <td>She left her husband. He killed their children...</td>\n",
              "    </tr>\n",
              "    <tr>\n",
              "      <th>1</th>\n",
              "      <td>Will Smith Joins Diplo And Nicky Jam For The 2...</td>\n",
              "      <td>ENTERTAINMENT</td>\n",
              "      <td>Of course it has a song.</td>\n",
              "    </tr>\n",
              "    <tr>\n",
              "      <th>2</th>\n",
              "      <td>Hugh Grant Marries For The First Time At Age 57</td>\n",
              "      <td>ENTERTAINMENT</td>\n",
              "      <td>The actor and his longtime girlfriend Anna Ebe...</td>\n",
              "    </tr>\n",
              "    <tr>\n",
              "      <th>3</th>\n",
              "      <td>Jim Carrey Blasts 'Castrato' Adam Schiff And D...</td>\n",
              "      <td>ENTERTAINMENT</td>\n",
              "      <td>The actor gives Dems an ass-kicking for not fi...</td>\n",
              "    </tr>\n",
              "    <tr>\n",
              "      <th>4</th>\n",
              "      <td>Julianna Margulies Uses Donald Trump Poop Bags...</td>\n",
              "      <td>ENTERTAINMENT</td>\n",
              "      <td>The \"Dietland\" actress said using the bags is ...</td>\n",
              "    </tr>\n",
              "  </tbody>\n",
              "</table>\n",
              "</div>"
            ],
            "text/plain": [
              "                                            headline       category  \\\n",
              "0  There Were 2 Mass Shootings In Texas Last Week...          CRIME   \n",
              "1  Will Smith Joins Diplo And Nicky Jam For The 2...  ENTERTAINMENT   \n",
              "2    Hugh Grant Marries For The First Time At Age 57  ENTERTAINMENT   \n",
              "3  Jim Carrey Blasts 'Castrato' Adam Schiff And D...  ENTERTAINMENT   \n",
              "4  Julianna Margulies Uses Donald Trump Poop Bags...  ENTERTAINMENT   \n",
              "\n",
              "                                   short_description  \n",
              "0  She left her husband. He killed their children...  \n",
              "1                           Of course it has a song.  \n",
              "2  The actor and his longtime girlfriend Anna Ebe...  \n",
              "3  The actor gives Dems an ass-kicking for not fi...  \n",
              "4  The \"Dietland\" actress said using the bags is ...  "
            ]
          },
          "metadata": {
            "tags": []
          },
          "execution_count": 6
        }
      ]
    },
    {
      "metadata": {
        "id": "WDwkN6atFbyZ",
        "colab_type": "code",
        "colab": {}
      },
      "cell_type": "code",
      "source": [
        "df['short_description'] = df['headline'] + \" \" + df['short_description']\n",
        "columns = ['category', 'short_description']\n",
        "df = df[columns]\n",
        "df.columns = columns"
      ],
      "execution_count": 0,
      "outputs": []
    },
    {
      "metadata": {
        "id": "p4pVJBjbgXtj",
        "colab_type": "code",
        "outputId": "9e27b492-f8c1-4812-cddc-261c2ee27841",
        "colab": {
          "base_uri": "https://localhost:8080/",
          "height": 194
        }
      },
      "cell_type": "code",
      "source": [
        "df.head()"
      ],
      "execution_count": 8,
      "outputs": [
        {
          "output_type": "execute_result",
          "data": {
            "text/html": [
              "<div>\n",
              "<style scoped>\n",
              "    .dataframe tbody tr th:only-of-type {\n",
              "        vertical-align: middle;\n",
              "    }\n",
              "\n",
              "    .dataframe tbody tr th {\n",
              "        vertical-align: top;\n",
              "    }\n",
              "\n",
              "    .dataframe thead th {\n",
              "        text-align: right;\n",
              "    }\n",
              "</style>\n",
              "<table border=\"1\" class=\"dataframe\">\n",
              "  <thead>\n",
              "    <tr style=\"text-align: right;\">\n",
              "      <th></th>\n",
              "      <th>category</th>\n",
              "      <th>short_description</th>\n",
              "    </tr>\n",
              "  </thead>\n",
              "  <tbody>\n",
              "    <tr>\n",
              "      <th>0</th>\n",
              "      <td>CRIME</td>\n",
              "      <td>There Were 2 Mass Shootings In Texas Last Week...</td>\n",
              "    </tr>\n",
              "    <tr>\n",
              "      <th>1</th>\n",
              "      <td>ENTERTAINMENT</td>\n",
              "      <td>Will Smith Joins Diplo And Nicky Jam For The 2...</td>\n",
              "    </tr>\n",
              "    <tr>\n",
              "      <th>2</th>\n",
              "      <td>ENTERTAINMENT</td>\n",
              "      <td>Hugh Grant Marries For The First Time At Age 5...</td>\n",
              "    </tr>\n",
              "    <tr>\n",
              "      <th>3</th>\n",
              "      <td>ENTERTAINMENT</td>\n",
              "      <td>Jim Carrey Blasts 'Castrato' Adam Schiff And D...</td>\n",
              "    </tr>\n",
              "    <tr>\n",
              "      <th>4</th>\n",
              "      <td>ENTERTAINMENT</td>\n",
              "      <td>Julianna Margulies Uses Donald Trump Poop Bags...</td>\n",
              "    </tr>\n",
              "  </tbody>\n",
              "</table>\n",
              "</div>"
            ],
            "text/plain": [
              "        category                                  short_description\n",
              "0          CRIME  There Were 2 Mass Shootings In Texas Last Week...\n",
              "1  ENTERTAINMENT  Will Smith Joins Diplo And Nicky Jam For The 2...\n",
              "2  ENTERTAINMENT  Hugh Grant Marries For The First Time At Age 5...\n",
              "3  ENTERTAINMENT  Jim Carrey Blasts 'Castrato' Adam Schiff And D...\n",
              "4  ENTERTAINMENT  Julianna Margulies Uses Donald Trump Poop Bags..."
            ]
          },
          "metadata": {
            "tags": []
          },
          "execution_count": 8
        }
      ]
    },
    {
      "metadata": {
        "id": "Lr7u3tvmgXtn",
        "colab_type": "code",
        "colab": {}
      },
      "cell_type": "code",
      "source": [
        "df['category_id'] = df['category'].factorize()[0]\n",
        "category_id_df = df[['category', 'category_id']].drop_duplicates().sort_values('category_id')\n",
        "category_to_id = dict(category_id_df.values)\n",
        "id_to_category = dict(category_id_df[['category_id', 'category']].values)"
      ],
      "execution_count": 0,
      "outputs": []
    },
    {
      "metadata": {
        "id": "9iGpFlbYgXtp",
        "colab_type": "code",
        "outputId": "16634bfb-cc32-4e12-d3c5-55e4eda6efc6",
        "colab": {
          "base_uri": "https://localhost:8080/",
          "height": 159
        }
      },
      "cell_type": "code",
      "source": [
        "df.info()"
      ],
      "execution_count": 10,
      "outputs": [
        {
          "output_type": "stream",
          "text": [
            "<class 'pandas.core.frame.DataFrame'>\n",
            "Int64Index: 200853 entries, 0 to 200852\n",
            "Data columns (total 3 columns):\n",
            "category             200853 non-null object\n",
            "short_description    200853 non-null object\n",
            "category_id          200853 non-null int64\n",
            "dtypes: int64(1), object(2)\n",
            "memory usage: 6.1+ MB\n"
          ],
          "name": "stdout"
        }
      ]
    },
    {
      "metadata": {
        "id": "Gf0BBA80gXtx",
        "colab_type": "code",
        "outputId": "d7d0cc36-f421-4925-feaa-5285f06af3b7",
        "colab": {
          "base_uri": "https://localhost:8080/",
          "height": 792
        }
      },
      "cell_type": "code",
      "source": [
        "fig = plt.figure(figsize = (16, 12))\n",
        "df.groupby('category').short_description.count().plot.bar(ylim=0)\n",
        "plt.show()"
      ],
      "execution_count": 11,
      "outputs": [
        {
          "output_type": "display_data",
          "data": {
            "image/png": "[encoded data removed]",
            "text/plain": [
              "<matplotlib.figure.Figure at 0x7f7fc8d12b00>"
            ]
          },
          "metadata": {
            "tags": []
          }
        }
      ]
    },
    {
      "metadata": {
        "id": "ao9ilIvXrYYz",
        "colab_type": "code",
        "outputId": "60780957-4c58-44c9-ead2-115e8e48a180",
        "colab": {
          "base_uri": "https://localhost:8080/",
          "height": 35
        }
      },
      "cell_type": "code",
      "source": [
        "stats = df.groupby('category').count()\n",
        "print(len(stats))\n",
        "after = df"
      ],
      "execution_count": 12,
      "outputs": [
        {
          "output_type": "stream",
          "text": [
            "41\n"
          ],
          "name": "stdout"
        }
      ]
    },
    {
      "metadata": {
        "id": "etgS3Jsk-VtK",
        "colab_type": "code",
        "colab": {
          "base_uri": "https://localhost:8080/",
          "height": 35
        },
        "outputId": "ac9fcfee-ee9e-4197-efab-84e8521998cc"
      },
      "cell_type": "code",
      "source": [
        "# df.loc[df['category'] == 'SCIENCE', 'category'] = 'TECH'\n",
        "# df.loc[df['category'] == 'CULTURE', 'category'] = 'ARTS & CULTURE'\n",
        "# df.loc[df['category'] == 'ARTS', 'category'] = 'ARTS & CULTURE'\n",
        "# df.loc[df['category'] == 'COLLEGE', 'category'] = 'EDUCATION'\n",
        "# df.loc[df['category'] == 'COMEDY', 'category'] = 'ENTERTAINMENT'\n",
        "# df.loc[df['category'] == 'CULTURE & ARTS', 'category'] = 'ARTS & CULTURE'\n",
        "# df.loc[df['category'] == 'FOOD & DRINK', 'category'] = 'FOOD'\n",
        "# df.loc[df['category'] == 'GREEN', 'category'] = 'ENVIRONMENT'\n",
        "# df.loc[df['category'] == 'HEALTHY LIVING', 'category'] = 'LIVING'\n",
        "# df.loc[df['category'] == 'HOME & LIVING', 'category'] = 'LIVING'\n",
        "# df.loc[df['category'] == 'PARENTS', 'category'] = 'PARENTING'\n",
        "# df.loc[df['category'] == 'STYLE & BEAUTY', 'category'] = 'STYLE'\n",
        "# df.loc[df['category'] == 'TASTE', 'category'] = 'STYLE'\n",
        "# df.loc[df['category'] == 'THE WORLDPOST', 'category'] = 'FOREIGN'\n",
        "# df.loc[df['category'] == 'WORLD NEWS', 'category'] = 'FOREIGN'\n",
        "# df.loc[df['category'] == 'WORLDPOST', 'category'] = 'FOREIGN'\n",
        "# df.loc[df['category'] == 'MONEY', 'category'] = 'BUSINESS'\n",
        "\n",
        "# df = df[df['category'] != 'BLACK VOICES']  \n",
        "# df = df[df['category'] != 'FIFTY']\n",
        "# df = df[df['category'] != 'GOOD NEWS']\n",
        "# df = df[df['category'] != 'IMPACT']\n",
        "# df = df[df['category'] != 'LATINO VOICES']\n",
        "# df = df[df['category'] != 'QUEER VOICES']\n",
        "# df = df[df['category'] != 'WEIRD NEWS']\n",
        "# df = df[df['category'] != 'WEDDINGS']\n",
        "# df = df[df['category'] != 'DIVORCE']\n",
        "# df = df[df['category'] != 'RELIGION']\n",
        "# df = df[df['category'] != 'WOMEN']\n",
        "# df = df[df['category'] != 'PARENTING']\n",
        "\n",
        "# after = df\n",
        "\n",
        "\n",
        "# PP = df[df.category == 'POLITICS']\n",
        "# drop_indices = np.random.choice(PP.index, 22000, replace=False)\n",
        "# after = df.drop(drop_indices)\n",
        "\n",
        "# EE = df[df.category == 'ENTERTAINMENT']\n",
        "# drop_indices = np.random.choice(EE.index, 12500, replace=False)\n",
        "# after = after.drop(drop_indices)\n",
        "\n",
        "# WW = df[df.category == 'WELLNESS']\n",
        "# drop_indices = np.random.choice(WW.index, 6000, replace=False)\n",
        "# after = after.drop(drop_indices)\n",
        "\n",
        "# SS = df[df.category == 'STYLE']\n",
        "# drop_indices = np.random.choice(SS.index, 6000, replace=False)\n",
        "# after = after.drop(drop_indices)\n",
        "\n",
        "# print(len(after))\n",
        "\n",
        "# drop_indices = np.random.choice(after.index, 50000, replace=False)\n",
        "# after = after.drop(drop_indices)\n",
        "\n",
        "print(len(after))"
      ],
      "execution_count": 13,
      "outputs": [
        {
          "output_type": "stream",
          "text": [
            "200853\n"
          ],
          "name": "stdout"
        }
      ]
    },
    {
      "metadata": {
        "id": "tvcEgJhw_eff",
        "colab_type": "code",
        "colab": {
          "base_uri": "https://localhost:8080/",
          "height": 792
        },
        "outputId": "b220a62d-f34a-4686-9368-c2fddee370f6"
      },
      "cell_type": "code",
      "source": [
        "fig = plt.figure(figsize = (16, 12))\n",
        "after.groupby('category').short_description.count().plot.bar(ylim=0)\n",
        "plt.show()"
      ],
      "execution_count": 14,
      "outputs": [
        {
          "output_type": "display_data",
          "data": {
            "image/png": "[encoded data removed]",
            "text/plain": [
              "<matplotlib.figure.Figure at 0x7f7fc93ba470>"
            ]
          },
          "metadata": {
            "tags": []
          }
        }
      ]
    },
    {
      "metadata": {
        "id": "-ZbCYKhegXt0",
        "colab_type": "code",
        "colab": {}
      },
      "cell_type": "code",
      "source": [
        " tfidf = TfidfVectorizer(sublinear_tf=True, min_df=5, norm='l2', ngram_range=(1, 2), stop_words='english')\n",
        "# features = tfidf.fit_transform(after.short_description).toarray()\n",
        "# labels = after.category_id\n",
        "# features.shape"
      ],
      "execution_count": 0,
      "outputs": []
    },
    {
      "metadata": {
        "id": "LejUWWC_gXt3",
        "colab_type": "code",
        "colab": {}
      },
      "cell_type": "code",
      "source": [
        "# N = 2\n",
        "# for Product, category_id in sorted(category_to_id.items()):\n",
        "#     features_chi2 = chi2(features, labels == category_id)\n",
        "#     indices = np.argsort(features_chi2[0])\n",
        "#     feature_names = np.array(tfidf.get_feature_names())[indices]\n",
        "#     unigrams = [v for v in feature_names if len(v.split(' ')) == 1]\n",
        "#     bigrams = [v for v in feature_names if len(v.split(' ')) == 2]\n",
        "#     print(\"# '{}':\".format(Product))\n",
        "#     print(\"  . Most correlated unigrams:\\n. {}\".format('\\n. '.join(unigrams[-N:])))\n",
        "#     print(\"  . Most correlated bigrams:\\n. {}\".format('\\n. '.join(bigrams[-N:])))\n"
      ],
      "execution_count": 0,
      "outputs": []
    },
    {
      "metadata": {
        "id": "Z9sb5_PGgXt-",
        "colab_type": "code",
        "colab": {
          "base_uri": "https://localhost:8080/",
          "height": 52
        },
        "outputId": "f3767fec-9faf-4ce7-ff15-42eb12003610"
      },
      "cell_type": "code",
      "source": [
        "from sklearn.model_selection import train_test_split\n",
        "from sklearn.feature_extraction.text import CountVectorizer\n",
        "from sklearn.feature_extraction.text import TfidfTransformer\n",
        "from sklearn.naive_bayes import MultinomialNB\n",
        "from sklearn.svm import LinearSVC\n",
        "from sklearn.linear_model import LogisticRegression\n",
        "from sklearn.neural_network import MLPClassifier\n",
        "\n",
        "X_train, X_test, y_train, y_test = train_test_split(after['short_description'], after['category'], random_state = 0)\n",
        "print(len(X_train), len(X_test))\n",
        "count_vect = CountVectorizer(stop_words='english', min_df=5)\n",
        "X_train_counts = count_vect.fit_transform(X_train)\n",
        "tfidf_transformer = TfidfTransformer(smooth_idf=False, sublinear_tf=True)\n",
        "X_train_tfidf = tfidf_transformer.fit_transform(X_train_counts)\n",
        "print(X_train_tfidf.shape)\n",
        "#clf = LogisticRegression(fit_intercept = False).fit(X_train_tfidf, y_train)\n",
        "#clf_cnn = MLPClassifier(solver='lbfgs', alpha=1e-5, hidden_layer_sizes=(16,), random_state=1, learning_rate='constant').fit(X_train_tfidf, y_train) "
      ],
      "execution_count": 15,
      "outputs": [
        {
          "output_type": "stream",
          "text": [
            "150639 50214\n",
            "(150639, 27401)\n"
          ],
          "name": "stdout"
        }
      ]
    },
    {
      "metadata": {
        "id": "dUDthRuQgXuA",
        "colab_type": "code",
        "colab": {}
      },
      "cell_type": "code",
      "source": [
        "#print(clf.predict(count_vect.transform([\"Maurice Greene aims to wipe out the pain of losing his Olympic 100m title in Athens by winning a fourth World Championship crown this summer.\"])))"
      ],
      "execution_count": 0,
      "outputs": []
    },
    {
      "metadata": {
        "id": "6HV2wZ2Ir1T_",
        "colab_type": "code",
        "colab": {}
      },
      "cell_type": "code",
      "source": [
        ""
      ],
      "execution_count": 0,
      "outputs": []
    },
    {
      "metadata": {
        "id": "arE8imBnv_ej",
        "colab_type": "code",
        "colab": {}
      },
      "cell_type": "code",
      "source": [
        ""
      ],
      "execution_count": 0,
      "outputs": []
    },
    {
      "metadata": {
        "id": "E7j0MFpmnYVS",
        "colab_type": "code",
        "colab": {
          "base_uri": "https://localhost:8080/",
          "height": 35
        },
        "outputId": "be5639e2-2b60-4ac7-d62c-38a56f5af4ea"
      },
      "cell_type": "code",
      "source": [
        "# poli = sum([1 for i in range(len(bbc_y)) if bbc_y[i] == \"BUSINESS\"])\n",
        "# print(poli)\n",
        "\n",
        "# for i in range(len(bbc_y)):\n",
        "#   if clf.predict(count_vect.transform([bbc_x[i]])) == bbc_y[i] and bbc_y[i] == \"POLITICS\":\n",
        "#     print(clf.predict(count_vect.transform([bbc_x[i]])), bbc_y[i])"
      ],
      "execution_count": 33,
      "outputs": [
        {
          "output_type": "stream",
          "text": [
            "50.80164910673385\n"
          ],
          "name": "stdout"
        }
      ]
    },
    {
      "metadata": {
        "id": "4OxX2dHk09R7",
        "colab_type": "code",
        "colab": {}
      },
      "cell_type": "code",
      "source": [
        "# filenames = ['April2017', 'April2018', 'Feb2017', 'Feb2018', 'Jan2017', 'Jan2018', 'March2017']\n",
        "# filenames.extend(['March2018', 'March2018', 'May2017'])\n",
        "# frames = []\n",
        "# for filename in filenames:\n",
        "#     frames.append(pd.read_csv('gdrive/My Drive/nyt-comments/Articles' + filename + '.csv'))\n",
        "# ny_df = pd.concat(frames, ignore_index = True)\n",
        "# col = ['newDesk', 'snippet']\n",
        "# ny_df = ny_df[col]\n",
        "# ny_df = ny_df[pd.notnull(df['snippet'])]\n",
        "# ny_df = ny_df[ny_df.newDesk == 'Sports']\n",
        "# ny_df['newDesk'] = ny_df['newDesk'].str.upper()\n",
        "# ny_df.info()"
      ],
      "execution_count": 0,
      "outputs": []
    },
    {
      "metadata": {
        "id": "RBe3sjYC2Y-a",
        "colab_type": "code",
        "colab": {}
      },
      "cell_type": "code",
      "source": [
        "# ny_x = ny_df['snippet']\n",
        "# ny_y = ny_df['newDesk']\n",
        "# print(len(ny_x))\n",
        "# print(len(ny_y))\n",
        "# print(ny_df.index)\n",
        "# accuracy = sum([1 for i in ny_df.index  if clf.predict(count_vect.transform([ny_x[i]])) == ny_y[i]]) / 10006 * 100\n",
        "# print(accuracy)"
      ],
      "execution_count": 0,
      "outputs": []
    },
    {
      "metadata": {
        "id": "VZKP420UgXuG",
        "colab_type": "code",
        "colab": {}
      },
      "cell_type": "code",
      "source": [
        "from sklearn.linear_model import LogisticRegression\n",
        "from sklearn.ensemble import RandomForestClassifier\n",
        "from sklearn.svm import LinearSVC\n",
        "from sklearn.model_selection import cross_val_score\n",
        "models = [\n",
        "   LinearSVC(),\n",
        "   MultinomialNB(),\n",
        "   LogisticRegression(random_state=0),\n",
        "   MLPClassifier(solver='lbfgs', alpha=1e-5, hidden_layer_sizes=(16,), random_state=1, learning_rate='constant')\n",
        "]\n",
        "\n",
        "# models = [\n",
        "#    LinearSVC()\n",
        "# ]"
      ],
      "execution_count": 0,
      "outputs": []
    },
    {
      "metadata": {
        "id": "yGvtoY44gXuI",
        "colab_type": "code",
        "colab": {
          "base_uri": "https://localhost:8080/",
          "height": 398
        },
        "outputId": "832ccddf-4905-41ba-fa2c-2be80908b266"
      },
      "cell_type": "code",
      "source": [
        "CV = 3\n",
        "cv_df = pd.DataFrame(index=range(CV * len(models)))\n",
        "entries = []\n",
        "for model in models:\n",
        "    model_name = model.__class__.__name__\n",
        "    accuracies = cross_val_score(model, X_train_tfidf, y_train, scoring='accuracy', cv=CV)\n",
        "    for fold_idx, accuracy in enumerate(accuracies):\n",
        "        entries.append((model_name, fold_idx, accuracy))\n",
        "\n",
        "cv_df = pd.DataFrame(entries, columns=['model_name', 'fold_idx', 'accuracy'])\n",
        "import seaborn as sns\n",
        "sns.boxplot(x='model_name', y='accuracy', data=cv_df)\n",
        "sns.stripplot(x='model_name', y='accuracy', data=cv_df, \n",
        "             size=8, jitter=True, edgecolor=\"gray\", linewidth=2)\n",
        "plt.show()"
      ],
      "execution_count": 21,
      "outputs": [
        {
          "output_type": "stream",
          "text": [
            "/usr/local/lib/python3.6/dist-packages/seaborn/categorical.py:454: FutureWarning: remove_na is deprecated and is a private function. Do not use.\n",
            "  box_data = remove_na(group_data)\n"
          ],
          "name": "stderr"
        },
        {
          "output_type": "display_data",
          "data": {
            "image/png": "[encoded data removed]",
            "text/plain": [
              "<matplotlib.figure.Figure at 0x7f7fc8748e80>"
            ]
          },
          "metadata": {
            "tags": []
          }
        }
      ]
    },
    {
      "metadata": {
        "id": "9v1z5XpvgXuQ",
        "colab_type": "code",
        "outputId": "e2c7bc9d-e60c-4874-ba5a-54110e3861d5",
        "colab": {
          "base_uri": "https://localhost:8080/",
          "height": 124
        }
      },
      "cell_type": "code",
      "source": [
        "cv_df.groupby('model_name').accuracy.mean()"
      ],
      "execution_count": 22,
      "outputs": [
        {
          "output_type": "execute_result",
          "data": {
            "text/plain": [
              "model_name\n",
              "LinearSVC             0.590425\n",
              "LogisticRegression    0.583288\n",
              "MLPClassifier         0.515159\n",
              "MultinomialNB         0.446312\n",
              "Name: accuracy, dtype: float64"
            ]
          },
          "metadata": {
            "tags": []
          },
          "execution_count": 22
        }
      ]
    },
    {
      "metadata": {
        "id": "mCiszkuWyeda",
        "colab_type": "text"
      },
      "cell_type": "markdown",
      "source": [
        "**2. Raw Test on BBC**"
      ]
    },
    {
      "metadata": {
        "id": "UcWREvPlgXuV",
        "colab_type": "code",
        "colab": {
          "base_uri": "https://localhost:8080/",
          "height": 88
        },
        "outputId": "2d0e05c2-5641-42ea-e36f-3a0c257a6569"
      },
      "cell_type": "code",
      "source": [
        "test_df = pd.read_csv(\"gdrive/My Drive/bbc_test.csv\")\n",
        "bbc_y = test_df['category']\n",
        "bbc_x = test_df['short_description']\n",
        "for model in models:\n",
        "    model_name = model.__class__.__name__\n",
        "    clf = model.fit(X_train_tfidf, y_train)\n",
        "    accuracy = sum([1 for i in range(len(bbc_y)) if clf.predict(count_vect.transform([bbc_x[i]])) == bbc_y[i]] ) / len(bbc_y) * 100\n",
        "    print(model_name, accuracy)"
      ],
      "execution_count": 23,
      "outputs": [
        {
          "output_type": "stream",
          "text": [
            "LinearSVC 39.80760421438387\n",
            "MultinomialNB 50.93907466788823\n",
            "LogisticRegression 47.73247824095282\n",
            "MLPClassifier 34.814475492441595\n"
          ],
          "name": "stdout"
        }
      ]
    },
    {
      "metadata": {
        "id": "Cr_Og3knzF_Z",
        "colab_type": "text"
      },
      "cell_type": "markdown",
      "source": [
        "**3.Cleaning Data**"
      ]
    },
    {
      "metadata": {
        "id": "VAmk0SDFyZER",
        "colab_type": "code",
        "colab": {
          "base_uri": "https://localhost:8080/",
          "height": 808
        },
        "outputId": "bcff3c65-0fa0-4db9-f54b-354e5549caaa"
      },
      "cell_type": "code",
      "source": [
        "df.loc[df['category'] == 'SCIENCE', 'category'] = 'TECH'\n",
        "df.loc[df['category'] == 'CULTURE', 'category'] = 'ARTS & CULTURE'\n",
        "df.loc[df['category'] == 'ARTS', 'category'] = 'ARTS & CULTURE'\n",
        "df.loc[df['category'] == 'COLLEGE', 'category'] = 'EDUCATION'\n",
        "df.loc[df['category'] == 'COMEDY', 'category'] = 'ENTERTAINMENT'\n",
        "df.loc[df['category'] == 'CULTURE & ARTS', 'category'] = 'ARTS & CULTURE'\n",
        "df.loc[df['category'] == 'FOOD & DRINK', 'category'] = 'FOOD'\n",
        "df.loc[df['category'] == 'GREEN', 'category'] = 'ENVIRONMENT'\n",
        "df.loc[df['category'] == 'HEALTHY LIVING', 'category'] = 'LIVING'\n",
        "df.loc[df['category'] == 'HOME & LIVING', 'category'] = 'LIVING'\n",
        "df.loc[df['category'] == 'PARENTS', 'category'] = 'PARENTING'\n",
        "df.loc[df['category'] == 'STYLE & BEAUTY', 'category'] = 'STYLE'\n",
        "df.loc[df['category'] == 'TASTE', 'category'] = 'STYLE'\n",
        "df.loc[df['category'] == 'THE WORLDPOST', 'category'] = 'FOREIGN'\n",
        "df.loc[df['category'] == 'WORLD NEWS', 'category'] = 'FOREIGN'\n",
        "df.loc[df['category'] == 'WORLDPOST', 'category'] = 'FOREIGN'\n",
        "df.loc[df['category'] == 'MONEY', 'category'] = 'BUSINESS'\n",
        "\n",
        "df = df[df['category'] != 'BLACK VOICES']  \n",
        "df = df[df['category'] != 'FIFTY']\n",
        "df = df[df['category'] != 'GOOD NEWS']\n",
        "df = df[df['category'] != 'IMPACT']\n",
        "df = df[df['category'] != 'LATINO VOICES']\n",
        "df = df[df['category'] != 'QUEER VOICES']\n",
        "df = df[df['category'] != 'WEIRD NEWS']\n",
        "df = df[df['category'] != 'WEDDINGS']\n",
        "df = df[df['category'] != 'DIVORCE']\n",
        "df = df[df['category'] != 'RELIGION']\n",
        "df = df[df['category'] != 'WOMEN']\n",
        "df = df[df['category'] != 'PARENTING']\n",
        "\n",
        "after = df\n",
        "\n",
        "# PP = df[df.category == 'POLITICS']\n",
        "# drop_indices = np.random.choice(PP.index, 22000, replace=False)\n",
        "# after = df.drop(drop_indices)\n",
        "\n",
        "# EE = df[df.category == 'ENTERTAINMENT']\n",
        "# drop_indices = np.random.choice(EE.index, 12500, replace=False)\n",
        "# after = after.drop(drop_indices)\n",
        "\n",
        "# WW = df[df.category == 'WELLNESS']\n",
        "# drop_indices = np.random.choice(WW.index, 6000, replace=False)\n",
        "# after = after.drop(drop_indices)\n",
        "\n",
        "# SS = df[df.category == 'STYLE']\n",
        "# drop_indices = np.random.choice(SS.index, 6000, replace=False)\n",
        "# after = after.drop(drop_indices)\n",
        "\n",
        "# print(len(after))\n",
        "\n",
        "# drop_indices = np.random.choice(after.index, 50000, replace=False)\n",
        "# after = after.drop(drop_indices)\n",
        "\n",
        "print(len(after))\n",
        "fig = plt.figure(figsize = (16, 12))\n",
        "after.groupby('category').short_description.count().plot.bar(ylim=0)\n",
        "plt.show()"
      ],
      "execution_count": 34,
      "outputs": [
        {
          "output_type": "stream",
          "text": [
            "154199\n"
          ],
          "name": "stdout"
        },
        {
          "output_type": "display_data",
          "data": {
            "image/png": "[encoded data removed]",
            "text/plain": [
              "<matplotlib.figure.Figure at 0x7f7fc9098278>"
            ]
          },
          "metadata": {
            "tags": []
          }
        }
      ]
    },
    {
      "metadata": {
        "id": "rxccw6Way-R3",
        "colab_type": "code",
        "colab": {
          "base_uri": "https://localhost:8080/",
          "height": 52
        },
        "outputId": "c7a76c5d-f181-43e5-e782-0dccaa0e842d"
      },
      "cell_type": "code",
      "source": [
        "#brand new X_train and y_train\n",
        "X_train, X_test, y_train, y_test = train_test_split(after['short_description'], after['category'], random_state = 0)\n",
        "print(len(X_train), len(X_test))\n",
        "count_vect = CountVectorizer(stop_words='english', min_df=5)\n",
        "X_train_counts = count_vect.fit_transform(X_train)\n",
        "tfidf_transformer = TfidfTransformer(smooth_idf=False, sublinear_tf=True)\n",
        "X_train_tfidf = tfidf_transformer.fit_transform(X_train_counts)\n",
        "print(X_train_tfidf.shape)"
      ],
      "execution_count": 25,
      "outputs": [
        {
          "output_type": "stream",
          "text": [
            "115649 38550\n",
            "(115649, 24340)\n"
          ],
          "name": "stdout"
        }
      ]
    },
    {
      "metadata": {
        "id": "i63GTKjvzOAD",
        "colab_type": "code",
        "colab": {
          "base_uri": "https://localhost:8080/",
          "height": 396
        },
        "outputId": "da869ebf-3a14-4869-91bf-7cd2167c8e84"
      },
      "cell_type": "code",
      "source": [
        "CV = 3\n",
        "cv_df = pd.DataFrame(index=range(CV * len(models)))\n",
        "entries = []\n",
        "for model in models:\n",
        "    model_name = model.__class__.__name__\n",
        "    accuracies = cross_val_score(model, X_train_tfidf, y_train, scoring='accuracy', cv=CV)\n",
        "    for fold_idx, accuracy in enumerate(accuracies):\n",
        "        entries.append((model_name, fold_idx, accuracy))\n",
        "\n",
        "cv_df = pd.DataFrame(entries, columns=['model_name', 'fold_idx', 'accuracy'])\n",
        "import seaborn as sns\n",
        "sns.boxplot(x='model_name', y='accuracy', data=cv_df)\n",
        "sns.stripplot(x='model_name', y='accuracy', data=cv_df, \n",
        "             size=8, jitter=True, edgecolor=\"gray\", linewidth=2)\n",
        "plt.show()"
      ],
      "execution_count": 26,
      "outputs": [
        {
          "output_type": "stream",
          "text": [
            "/usr/local/lib/python3.6/dist-packages/seaborn/categorical.py:454: FutureWarning: remove_na is deprecated and is a private function. Do not use.\n",
            "  box_data = remove_na(group_data)\n"
          ],
          "name": "stderr"
        },
        {
          "output_type": "display_data",
          "data": {
            "image/png": "[encoded data removed]",
            "text/plain": [
              "<matplotlib.figure.Figure at 0x7f7fc908fa90>"
            ]
          },
          "metadata": {
            "tags": []
          }
        }
      ]
    },
    {
      "metadata": {
        "id": "oyp2HXPrzWzm",
        "colab_type": "code",
        "colab": {
          "base_uri": "https://localhost:8080/",
          "height": 124
        },
        "outputId": "25f786d5-95c0-4233-8fd1-ca4a9306c8ae"
      },
      "cell_type": "code",
      "source": [
        "cv_df.groupby('model_name').accuracy.mean()"
      ],
      "execution_count": 27,
      "outputs": [
        {
          "output_type": "execute_result",
          "data": {
            "text/plain": [
              "model_name\n",
              "LinearSVC             0.700222\n",
              "LogisticRegression    0.696080\n",
              "MLPClassifier         0.646223\n",
              "MultinomialNB         0.608678\n",
              "Name: accuracy, dtype: float64"
            ]
          },
          "metadata": {
            "tags": []
          },
          "execution_count": 27
        }
      ]
    },
    {
      "metadata": {
        "id": "46Wc5yMh0KGV",
        "colab_type": "code",
        "colab": {
          "base_uri": "https://localhost:8080/",
          "height": 88
        },
        "outputId": "9f3f003a-709c-4b57-ad87-c9a68392a7f5"
      },
      "cell_type": "code",
      "source": [
        "test_df = pd.read_csv(\"gdrive/My Drive/bbc_test.csv\")\n",
        "bbc_y = test_df['category']\n",
        "bbc_x = test_df['short_description']\n",
        "for model in models:\n",
        "    model_name = model.__class__.__name__\n",
        "    clf = model.fit(X_train_tfidf, y_train)\n",
        "    accuracy = sum([1 for i in range(len(bbc_y)) if clf.predict(count_vect.transform([bbc_x[i]])) == bbc_y[i]] ) / len(bbc_y) * 100\n",
        "    print(model_name, accuracy)"
      ],
      "execution_count": 28,
      "outputs": [
        {
          "output_type": "stream",
          "text": [
            "LinearSVC 46.953733394411366\n",
            "MultinomialNB 51.580393953275305\n",
            "LogisticRegression 51.39715987173614\n",
            "MLPClassifier 44.5716903344022\n"
          ],
          "name": "stdout"
        }
      ]
    },
    {
      "metadata": {
        "id": "JlqVzkxU8ZPn",
        "colab_type": "text"
      },
      "cell_type": "markdown",
      "source": [
        "4.with Data clean and Tuning"
      ]
    },
    {
      "metadata": {
        "id": "vHwcG93q0X6D",
        "colab_type": "code",
        "colab": {}
      },
      "cell_type": "code",
      "source": [
        "models = [\n",
        "   LinearSVC(loss='hinge', C = 0.45, fit_intercept = False).fit(X_train_tfidf, y_train),\n",
        "   MultinomialNB(alpha = 0.15),\n",
        "   LogisticRegression(solver='saga', random_state=0, tol=0.16),\n",
        "   MLPClassifier(solver='lbfgs', alpha=1e-5, hidden_layer_sizes=(128,), random_state=1, learning_rate='constant')\n",
        "]"
      ],
      "execution_count": 0,
      "outputs": []
    },
    {
      "metadata": {
        "id": "8MWE965gIkZs",
        "colab_type": "code",
        "colab": {
          "base_uri": "https://localhost:8080/",
          "height": 396
        },
        "outputId": "60dbb390-cb61-4952-88b0-5c1492c9264c"
      },
      "cell_type": "code",
      "source": [
        "CV = 3\n",
        "cv_df = pd.DataFrame(index=range(CV * len(models)))\n",
        "entries = []\n",
        "for model in models:\n",
        "    model_name = model.__class__.__name__\n",
        "    accuracies = cross_val_score(model, X_train_tfidf, y_train, scoring='accuracy', cv=CV)\n",
        "    for fold_idx, accuracy in enumerate(accuracies):\n",
        "        entries.append((model_name, fold_idx, accuracy))\n",
        "\n",
        "cv_df = pd.DataFrame(entries, columns=['model_name', 'fold_idx', 'accuracy'])\n",
        "import seaborn as sns\n",
        "sns.boxplot(x='model_name', y='accuracy', data=cv_df)\n",
        "sns.stripplot(x='model_name', y='accuracy', data=cv_df, \n",
        "             size=8, jitter=True, edgecolor=\"gray\", linewidth=2)\n",
        "plt.show()"
      ],
      "execution_count": 32,
      "outputs": [
        {
          "output_type": "stream",
          "text": [
            "/usr/local/lib/python3.6/dist-packages/seaborn/categorical.py:454: FutureWarning: remove_na is deprecated and is a private function. Do not use.\n",
            "  box_data = remove_na(group_data)\n"
          ],
          "name": "stderr"
        },
        {
          "output_type": "display_data",
          "data": {
            "image/png": "[encoded data removed]",
            "text/plain": [
              "<matplotlib.figure.Figure at 0x7f7fc90a4400>"
            ]
          },
          "metadata": {
            "tags": []
          }
        }
      ]
    },
    {
      "metadata": {
        "id": "fh022a1rI3KY",
        "colab_type": "code",
        "colab": {
          "base_uri": "https://localhost:8080/",
          "height": 124
        },
        "outputId": "ace70f35-9f40-4e66-f91f-eef3d4292dbe"
      },
      "cell_type": "code",
      "source": [
        "cv_df.groupby('model_name').accuracy.mean()"
      ],
      "execution_count": 35,
      "outputs": [
        {
          "output_type": "execute_result",
          "data": {
            "text/plain": [
              "model_name\n",
              "LinearSVC             0.706284\n",
              "LogisticRegression    0.689362\n",
              "MLPClassifier         0.682574\n",
              "MultinomialNB         0.677766\n",
              "Name: accuracy, dtype: float64"
            ]
          },
          "metadata": {
            "tags": []
          },
          "execution_count": 35
        }
      ]
    },
    {
      "metadata": {
        "id": "HUyi0nzr9R0I",
        "colab_type": "code",
        "colab": {
          "base_uri": "https://localhost:8080/",
          "height": 88
        },
        "outputId": "63425eb0-478b-4b8a-ab76-3f44a0d4e786"
      },
      "cell_type": "code",
      "source": [
        "test_df = pd.read_csv(\"gdrive/My Drive/bbc_test.csv\")\n",
        "bbc_y = test_df['category']\n",
        "bbc_x = test_df['short_description']\n",
        "for model in models:\n",
        "    model_name = model.__class__.__name__\n",
        "    clf = model.fit(X_train_tfidf, y_train)\n",
        "    accuracy = sum([1 for i in range(len(bbc_y)) if clf.predict(count_vect.transform([bbc_x[i]])) == bbc_y[i]] ) / len(bbc_y) * 100\n",
        "    print(model_name, accuracy)"
      ],
      "execution_count": 36,
      "outputs": [
        {
          "output_type": "stream",
          "text": [
            "LinearSVC 50.80164910673385\n",
            "MultinomialNB 57.26065048098946\n",
            "LogisticRegression 52.450755840586346\n",
            "MLPClassifier 45.6710948236372\n"
          ],
          "name": "stdout"
        }
      ]
    },
    {
      "metadata": {
        "id": "uQEobpaQ9VSH",
        "colab_type": "code",
        "colab": {}
      },
      "cell_type": "code",
      "source": [
        ""
      ],
      "execution_count": 0,
      "outputs": []
    }
  ]
}